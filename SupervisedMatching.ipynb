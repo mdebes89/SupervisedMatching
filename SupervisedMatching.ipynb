{
 "cells": [
  {
   "cell_type": "markdown",
   "id": "1225314a-55e2-485e-9a29-9648474f7fae",
   "metadata": {},
   "source": [
    "### Imports"
   ]
  },
  {
   "cell_type": "code",
   "execution_count": 1,
   "id": "33b8d7f5-f312-4545-866e-de6985eeef26",
   "metadata": {},
   "outputs": [],
   "source": [
    "import pandas as pd\n",
    "from sklearn.model_selection import train_test_split"
   ]
  },
  {
   "cell_type": "markdown",
   "id": "de8a5bea-ad0b-4388-9b86-49d21bbe5885",
   "metadata": {},
   "source": [
    "### Load synthetic pairs"
   ]
  },
  {
   "cell_type": "code",
   "execution_count": 4,
   "id": "77ebd3de-c4c7-4d75-91d8-2612867e9d91",
   "metadata": {},
   "outputs": [
    {
     "name": "stdout",
     "output_type": "stream",
     "text": [
      "Shape: (400, 7)\n",
      "Label distribution:\n",
      " label\n",
      "1    200\n",
      "0    200\n",
      "Name: count, dtype: int64\n"
     ]
    }
   ],
   "source": [
    "pairs_df = pd.read_csv(\"synth_pairs.csv\")\n",
    "\n",
    "print(\"Shape:\", pairs_df.shape)\n",
    "print(\"Label distribution:\\n\", pairs_df[\"label\"].value_counts())"
   ]
  },
  {
   "cell_type": "code",
   "execution_count": null,
   "id": "15de2fb9-1ed0-43a8-b273-b6483cc46322",
   "metadata": {},
   "outputs": [],
   "source": []
  }
 ],
 "metadata": {
  "kernelspec": {
   "display_name": "Python [conda env:base] *",
   "language": "python",
   "name": "conda-base-py"
  },
  "language_info": {
   "codemirror_mode": {
    "name": "ipython",
    "version": 3
   },
   "file_extension": ".py",
   "mimetype": "text/x-python",
   "name": "python",
   "nbconvert_exporter": "python",
   "pygments_lexer": "ipython3",
   "version": "3.13.5"
  }
 },
 "nbformat": 4,
 "nbformat_minor": 5
}
